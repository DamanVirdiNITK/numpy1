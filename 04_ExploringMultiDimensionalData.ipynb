{
 "cells": [
  {
   "cell_type": "markdown",
   "metadata": {},
   "source": [
    "Numpy Ecosystem\n",
    "statsmodel - Estimate statistical models and perform tests\n",
    "scikit-image - Collection of algorithms for image processing\n",
    "scikit-learn - Simple and efficient tools for machine learning in Python\n",
    "pandas - Data analysis and manipulation\n",
    "matplotlib - Plotting library for 2D graphs and visualization"
   ]
  },
  {
   "cell_type": "code",
   "execution_count": null,
   "metadata": {},
   "outputs": [],
   "source": []
  }
 ],
 "metadata": {
  "kernelspec": {
   "display_name": "Python 3",
   "language": "python",
   "name": "python3"
  },
  "language_info": {
   "codemirror_mode": {
    "name": "ipython",
    "version": 3
   },
   "file_extension": ".py",
   "mimetype": "text/x-python",
   "name": "python",
   "nbconvert_exporter": "python",
   "pygments_lexer": "ipython3",
   "version": "3.8.5"
  }
 },
 "nbformat": 4,
 "nbformat_minor": 4
}
